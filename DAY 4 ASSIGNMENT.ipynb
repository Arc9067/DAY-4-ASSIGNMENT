{
 "cells": [
  {
   "cell_type": "code",
   "execution_count": null,
   "id": "63aded54",
   "metadata": {},
   "outputs": [],
   "source": [
    "#create a program to add and multiply two numbers and each\n",
    "#marks = [70,80,77,86,99]\n",
    "#wrie a function to calclate the average mark \n",
    "#write af afunction to calculate the grade of th studentts based on average marks (if elif else)"
   ]
  },
  {
   "cell_type": "code",
   "execution_count": null,
   "id": "3bb6ad6d",
   "metadata": {},
   "outputs": [],
   "source": [
    "#create a program to add and multiply two numbers and each\n"
   ]
  },
  {
   "cell_type": "code",
   "execution_count": 2,
   "id": "3e0ee128",
   "metadata": {},
   "outputs": [
    {
     "data": {
      "text/plain": [
       "10100"
      ]
     },
     "execution_count": 2,
     "metadata": {},
     "output_type": "execute_result"
    }
   ],
   "source": [
    "# 1 a) To add\n",
    "\n",
    "def sum(a,b,):\n",
    "    number= a+b\n",
    "    return number\n",
    "sum(100,10000)"
   ]
  },
  {
   "cell_type": "code",
   "execution_count": 5,
   "id": "65f90de4",
   "metadata": {},
   "outputs": [
    {
     "data": {
      "text/plain": [
       "2000"
      ]
     },
     "execution_count": 5,
     "metadata": {},
     "output_type": "execute_result"
    }
   ],
   "source": [
    "# 1 ) to multiply\n",
    "\n",
    "def multiply(c,d):\n",
    "    multiply=c*d\n",
    "    return multiply\n",
    "\n",
    "multiply(20,100)"
   ]
  },
  {
   "cell_type": "code",
   "execution_count": 10,
   "id": "29c2e7e7",
   "metadata": {},
   "outputs": [
    {
     "ename": "SyntaxError",
     "evalue": "'return' outside function (<ipython-input-10-b15014d1497c>, line 8)",
     "output_type": "error",
     "traceback": [
      "\u001b[1;36m  File \u001b[1;32m\"<ipython-input-10-b15014d1497c>\"\u001b[1;36m, line \u001b[1;32m8\u001b[0m\n\u001b[1;33m    return(i)\u001b[0m\n\u001b[1;37m    ^\u001b[0m\n\u001b[1;31mSyntaxError\u001b[0m\u001b[1;31m:\u001b[0m 'return' outside function\n"
     ]
    }
   ],
   "source": [
    "#marks = [70,80,77,86,99]\n",
    "#wrie a function to calclate the average mark \n",
    "\n",
    "marks=[70,80,77,86,99]\n",
    "average = 0\n",
    "for i in marks:\n",
    "    avergae=average+1\n",
    "    return(i)\n",
    "# ma pls i dont understand the loop very well"
   ]
  },
  {
   "cell_type": "code",
   "execution_count": null,
   "id": "0f5b2d7b",
   "metadata": {},
   "outputs": [],
   "source": [
    "#write af afunction to calculate the grade of th studentts based on average marks (if elif else)"
   ]
  },
  {
   "cell_type": "code",
   "execution_count": 24,
   "id": "261797d8",
   "metadata": {},
   "outputs": [
    {
     "name": "stdout",
     "output_type": "stream",
     "text": [
      "What was your total scores? 80\n",
      "Fail!\n"
     ]
    }
   ],
   "source": [
    "scores= input('What was your total scores? ')\n",
    "int(scores)\n",
    "if scores==100:\n",
    "    print('Excellent')\n",
    "elif scores==90:\n",
    "    print('good')\n",
    "elif scores==80:\n",
    "    print('pass')\n",
    "elif scores==70:\n",
    "    print('go anyway')\n",
    "elif scores==60:\n",
    "    print('hmmm try')\n",
    "elif scores==50:\n",
    "    print('why average')\n",
    "elif scores==40:\n",
    "    print('fair')\n",
    "else:\n",
    "    print('Fail!')\n"
   ]
  },
  {
   "cell_type": "code",
   "execution_count": 27,
   "id": "8f7e6cab",
   "metadata": {},
   "outputs": [
    {
     "name": "stdout",
     "output_type": "stream",
     "text": [
      "What was your total scores? 90\n"
     ]
    }
   ],
   "source": [
    "scores= input('What was your total scores? ')\n",
    "int(scores)\n",
    "if scores==100:\n",
    "    print('Excellent')\n",
    "elif scores==90:\n",
    "    print('good')\n",
    "elif scores==80:\n",
    "    print('pass')\n",
    "elif scores==70:\n",
    "    print('go anyway')\n",
    "elif scores==60:\n",
    "    print('hmmm try')\n",
    "elif scores==50:\n",
    "    print('why average')\n",
    "elif scores==40:\n",
    "    print('fair')\n",
    "else:\n",
    "    print('Fail!')\n"
   ]
  },
  {
   "cell_type": "code",
   "execution_count": null,
   "id": "fa3c5586",
   "metadata": {},
   "outputs": [],
   "source": []
  }
 ],
 "metadata": {
  "kernelspec": {
   "display_name": "Python 3",
   "language": "python",
   "name": "python3"
  },
  "language_info": {
   "codemirror_mode": {
    "name": "ipython",
    "version": 3
   },
   "file_extension": ".py",
   "mimetype": "text/x-python",
   "name": "python",
   "nbconvert_exporter": "python",
   "pygments_lexer": "ipython3",
   "version": "3.8.8"
  }
 },
 "nbformat": 4,
 "nbformat_minor": 5
}
